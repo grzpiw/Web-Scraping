{
 "cells": [
  {
   "cell_type": "code",
   "execution_count": 1,
   "metadata": {},
   "outputs": [
    {
     "data": {
      "text/html": [
       "<style>.container { width:90% !important; }</style>"
      ],
      "text/plain": [
       "<IPython.core.display.HTML object>"
      ]
     },
     "metadata": {},
     "output_type": "display_data"
    }
   ],
   "source": [
    "from IPython.core.display import display, HTML; display(HTML(\"<style>.container { width:90% !important; }</style>\")) "
   ]
  },
  {
   "cell_type": "markdown",
   "metadata": {},
   "source": [
    "W tej części nauczymy się w jaki sposób zautomatyzować tworzenie tabeli. Na początkowym etapie projektowania bazy danych często pojawia się potrzeba usuniecia tabeli, przerobienia jej i stworzenia od nowa. Dlatego właśnie ważne jest aby było to szybkie i automatyczne.\n",
    "\n",
    "Zamysł jest taki, żeby informacje o tabeli (tabelach) trzymać w plikach konfiguracyjnych i na podstawie tych plików generować zapytania CREATE."
   ]
  },
  {
   "cell_type": "markdown",
   "metadata": {},
   "source": [
    "## Zapis i odczyt plików typu JSON\n",
    "\n",
    "Pliki JSON (JavaScript Object Notation) dobrze nadają się jako pliki konfiguracyjne, w których można przechowywać np. informacje o strukturze tabel, które następnie utworzymy"
   ]
  },
  {
   "cell_type": "code",
   "execution_count": 2,
   "metadata": {},
   "outputs": [
    {
     "data": {
      "text/plain": [
       "{'a': [1, 2, 3], 'b': 'c', 'd': {'e': [4, 5], 'f': 'g'}}"
      ]
     },
     "execution_count": 2,
     "metadata": {},
     "output_type": "execute_result"
    }
   ],
   "source": [
    "import json\n",
    "\n",
    "dict_to_dump = {\"a\": [1, 2, 3], \"b\": \"c\", \"d\": {\"e\": [4, 5], \"f\": \"g\"}}\n",
    "dict_to_dump"
   ]
  },
  {
   "cell_type": "code",
   "execution_count": 3,
   "metadata": {},
   "outputs": [],
   "source": [
    "with open(\"json_file.json\", \"w\") as f:\n",
    "    json.dump(dict_to_dump, f)"
   ]
  },
  {
   "cell_type": "code",
   "execution_count": 4,
   "metadata": {},
   "outputs": [],
   "source": [
    "with open(\"json_file.json\", \"r\") as f:\n",
    "    loaded_dict = json.load(f)"
   ]
  },
  {
   "cell_type": "code",
   "execution_count": 5,
   "metadata": {},
   "outputs": [
    {
     "data": {
      "text/plain": [
       "{'a': [1, 2, 3], 'b': 'c', 'd': {'e': [4, 5], 'f': 'g'}}"
      ]
     },
     "execution_count": 5,
     "metadata": {},
     "output_type": "execute_result"
    }
   ],
   "source": [
    "loaded_dict"
   ]
  },
  {
   "cell_type": "code",
   "execution_count": 6,
   "metadata": {},
   "outputs": [],
   "source": [
    "json.dump(dict_to_dump, open(\"json_file.json\", \"w\"))"
   ]
  },
  {
   "cell_type": "code",
   "execution_count": 7,
   "metadata": {},
   "outputs": [],
   "source": [
    "loaded_dict = json.load(open(\"json_file.json\", \"r\"))"
   ]
  },
  {
   "cell_type": "code",
   "execution_count": 8,
   "metadata": {},
   "outputs": [
    {
     "data": {
      "text/plain": [
       "{'a': [1, 2, 3], 'b': 'c', 'd': {'e': [4, 5], 'f': 'g'}}"
      ]
     },
     "execution_count": 8,
     "metadata": {},
     "output_type": "execute_result"
    }
   ],
   "source": [
    "loaded_dict"
   ]
  },
  {
   "cell_type": "markdown",
   "metadata": {},
   "source": [
    "Stringi w JSONach muszą znajdować się w cudzysłowiach, nie apostrofach."
   ]
  },
  {
   "cell_type": "markdown",
   "metadata": {},
   "source": [
    "## Plik konfiguracyjny tabeli"
   ]
  },
  {
   "cell_type": "markdown",
   "metadata": {},
   "source": [
    "```\n",
    "{\"name\": \"cars\",\n",
    " \"columns\": [\n",
    "        {\"name\": \"id\", \"type\": \"serial\"},\n",
    "        {\"name\": \"brand\", \"type\": \"varchar(20)\", \"not_null\": 1, \"unique\": 0},\n",
    "        {\"name\": \"price\", \"type\": \"numeric\", \"not_null\": 1, \"unique\": 0},\n",
    "        {\"name\": \"fuel_type\", \"type\": \"varchar(12)\", \"not_null\": 0, \"unique\": 0},\n",
    "        {\"name\": \"mileage\", \"type\": \"numeric\", \"not_null\": 0, \"unique\": 0},\n",
    "        {\"name\": \"is_new\", \"type\": \"boolean\", \"not_null\": 1, \"unique\": 0},\n",
    "        {\"name\": \"prod_date\", \"type\": \"date\", \"not_null\": 0, \"unique\": 0}]\n",
    "}\n",
    "```"
   ]
  },
  {
   "cell_type": "code",
   "execution_count": 9,
   "metadata": {},
   "outputs": [],
   "source": [
    "config = {\"name\": \"cars\",\n",
    " \"columns\": [\n",
    "        {\"name\": \"id\", \"type\": \"serial\"},\n",
    "        {\"name\": \"brand\", \"type\": \"varchar(20)\", \"not_null\": 1, \"unique\": 0},\n",
    "        {\"name\": \"price\", \"type\": \"numeric\", \"not_null\": 1, \"unique\": 1},\n",
    "        {\"name\": \"fuel_type\", \"type\": \"varchar(12)\", \"not_null\": 0, \"unique\": 0},\n",
    "        {\"name\": \"mileage\", \"type\": \"numeric\", \"not_null\": 0, \"unique\": 0},\n",
    "        {\"name\": \"is_new\", \"type\": \"boolean\", \"not_null\": 1, \"unique\": 0},\n",
    "        {\"name\": \"prod_date\", \"type\": \"date\", \"not_null\": 0, \"unique\": 0}]\n",
    "}"
   ]
  },
  {
   "cell_type": "code",
   "execution_count": 10,
   "metadata": {
    "scrolled": false
   },
   "outputs": [
    {
     "data": {
      "text/plain": [
       "{'name': 'cars',\n",
       " 'columns': [{'name': 'id', 'type': 'serial'},\n",
       "  {'name': 'brand', 'type': 'varchar(20)', 'not_null': 1, 'unique': 0},\n",
       "  {'name': 'price', 'type': 'numeric', 'not_null': 1, 'unique': 1},\n",
       "  {'name': 'fuel_type', 'type': 'varchar(12)', 'not_null': 0, 'unique': 0},\n",
       "  {'name': 'mileage', 'type': 'numeric', 'not_null': 0, 'unique': 0},\n",
       "  {'name': 'is_new', 'type': 'boolean', 'not_null': 1, 'unique': 0},\n",
       "  {'name': 'prod_date', 'type': 'date', 'not_null': 0, 'unique': 0}]}"
      ]
     },
     "execution_count": 10,
     "metadata": {},
     "output_type": "execute_result"
    }
   ],
   "source": [
    "config"
   ]
  },
  {
   "cell_type": "markdown",
   "metadata": {},
   "source": [
    "## Generowanie zapytania na podstawie JSONa"
   ]
  },
  {
   "cell_type": "markdown",
   "metadata": {},
   "source": [
    "``` SQL\n",
    "CREATE TABLE cars (\n",
    "    id          serial,             \n",
    "    brand       varchar(20) NOT NULL,          \n",
    "    price       numeric NOT NULL UNIQUE,              \n",
    "    fuel_type   varchar(12),                 \n",
    "    mileage     numeric,\n",
    "    is_new      boolean NOT NULL,              \n",
    "    prod_date   date                    \n",
    ");\n",
    "```"
   ]
  },
  {
   "cell_type": "code",
   "execution_count": 11,
   "metadata": {},
   "outputs": [],
   "source": [
    "create_query = f\"CREATE TABLE {config['name']} (\"   # należy zwrócić uwagę na różne cudzysłowy w tej konstrukcji"
   ]
  },
  {
   "cell_type": "code",
   "execution_count": 12,
   "metadata": {},
   "outputs": [
    {
     "data": {
      "text/plain": [
       "'CREATE TABLE cars ('"
      ]
     },
     "execution_count": 12,
     "metadata": {},
     "output_type": "execute_result"
    }
   ],
   "source": [
    "create_query"
   ]
  },
  {
   "cell_type": "code",
   "execution_count": 13,
   "metadata": {},
   "outputs": [],
   "source": [
    "def return_not_null(is_not_null):\n",
    "    return \"NOT NULL\" if is_not_null else \"\"\n",
    "\n",
    "    \n",
    "def return_unique(is_unique):\n",
    "    return \"UNIQUE\" if is_unique else \"\""
   ]
  },
  {
   "cell_type": "code",
   "execution_count": 25,
   "metadata": {},
   "outputs": [
    {
     "data": {
      "text/plain": [
       "'UNIQUE'"
      ]
     },
     "execution_count": 25,
     "metadata": {},
     "output_type": "execute_result"
    }
   ],
   "source": [
    "return_unique(1)"
   ]
  },
  {
   "cell_type": "code",
   "execution_count": 14,
   "metadata": {},
   "outputs": [
    {
     "data": {
      "text/plain": [
       "{'name': 'cars',\n",
       " 'columns': [{'name': 'id', 'type': 'serial'},\n",
       "  {'name': 'brand', 'type': 'varchar(20)', 'not_null': 1, 'unique': 0},\n",
       "  {'name': 'price', 'type': 'numeric', 'not_null': 1, 'unique': 1},\n",
       "  {'name': 'fuel_type', 'type': 'varchar(12)', 'not_null': 0, 'unique': 0},\n",
       "  {'name': 'mileage', 'type': 'numeric', 'not_null': 0, 'unique': 0},\n",
       "  {'name': 'is_new', 'type': 'boolean', 'not_null': 1, 'unique': 0},\n",
       "  {'name': 'prod_date', 'type': 'date', 'not_null': 0, 'unique': 0}]}"
      ]
     },
     "execution_count": 14,
     "metadata": {},
     "output_type": "execute_result"
    }
   ],
   "source": [
    "config"
   ]
  },
  {
   "cell_type": "markdown",
   "metadata": {},
   "source": [
    "###### Wersja 1"
   ]
  },
  {
   "cell_type": "code",
   "execution_count": 15,
   "metadata": {},
   "outputs": [],
   "source": [
    "columns_definition = ','.join([col[\"name\"] + \" \" + col[\"type\"] + \" \" + return_not_null(col.get(\"not_null\", 0)) + \" \" + return_unique(col.get(\"unique\", 0))\n",
    "                               for col in config[\"columns\"]])"
   ]
  },
  {
   "cell_type": "code",
   "execution_count": 16,
   "metadata": {},
   "outputs": [
    {
     "data": {
      "text/plain": [
       "'id serial  ,brand varchar(20) NOT NULL ,price numeric NOT NULL UNIQUE,fuel_type varchar(12)  ,mileage numeric  ,is_new boolean NOT NULL ,prod_date date  '"
      ]
     },
     "execution_count": 16,
     "metadata": {},
     "output_type": "execute_result"
    }
   ],
   "source": [
    "columns_definition"
   ]
  },
  {
   "cell_type": "markdown",
   "metadata": {},
   "source": [
    "###### Wersja 2"
   ]
  },
  {
   "cell_type": "code",
   "execution_count": 26,
   "metadata": {},
   "outputs": [
    {
     "data": {
      "text/plain": [
       "[{'name': 'id', 'type': 'serial'},\n",
       " {'name': 'brand', 'type': 'varchar(20)', 'not_null': 1, 'unique': 0},\n",
       " {'name': 'price', 'type': 'numeric', 'not_null': 1, 'unique': 1},\n",
       " {'name': 'fuel_type', 'type': 'varchar(12)', 'not_null': 0, 'unique': 0},\n",
       " {'name': 'mileage', 'type': 'numeric', 'not_null': 0, 'unique': 0},\n",
       " {'name': 'is_new', 'type': 'boolean', 'not_null': 1, 'unique': 0},\n",
       " {'name': 'prod_date', 'type': 'date', 'not_null': 0, 'unique': 0}]"
      ]
     },
     "execution_count": 26,
     "metadata": {},
     "output_type": "execute_result"
    }
   ],
   "source": [
    "config[\"columns\"]"
   ]
  },
  {
   "cell_type": "code",
   "execution_count": 21,
   "metadata": {},
   "outputs": [],
   "source": [
    "columns_definitions = []\n",
    "for col in config[\"columns\"]:\n",
    "    single_column_definition = col[\"name\"] + \" \" + col[\"type\"] + \" \" + return_not_null(col.get(\"not_null\", 0)) + \" \" + return_unique(col.get(\"unique\", 0))\n",
    "    columns_definitions.append(single_column_definition)\n",
    "    \n",
    "columns_definition = ','.join(columns_definitions)"
   ]
  },
  {
   "cell_type": "code",
   "execution_count": 22,
   "metadata": {},
   "outputs": [
    {
     "data": {
      "text/plain": [
       "'id serial  ,brand varchar(20) NOT NULL ,price numeric NOT NULL UNIQUE,fuel_type varchar(12)  ,mileage numeric  ,is_new boolean NOT NULL ,prod_date date  '"
      ]
     },
     "execution_count": 22,
     "metadata": {},
     "output_type": "execute_result"
    }
   ],
   "source": [
    "columns_definition"
   ]
  },
  {
   "cell_type": "code",
   "execution_count": 23,
   "metadata": {},
   "outputs": [],
   "source": [
    "create_query += columns_definition + \");\""
   ]
  },
  {
   "cell_type": "code",
   "execution_count": 27,
   "metadata": {},
   "outputs": [
    {
     "data": {
      "text/plain": [
       "'CREATE TABLE cars (id serial  ,brand varchar(20) NOT NULL ,price numeric NOT NULL UNIQUE,fuel_type varchar(12)  ,mileage numeric  ,is_new boolean NOT NULL ,prod_date date  );id serial  ,brand varchar(20) NOT NULL ,price numeric NOT NULL UNIQUE,fuel_type varchar(12)  ,mileage numeric  ,is_new boolean NOT NULL ,prod_date date  );'"
      ]
     },
     "execution_count": 27,
     "metadata": {},
     "output_type": "execute_result"
    }
   ],
   "source": [
    "create_query"
   ]
  },
  {
   "cell_type": "markdown",
   "metadata": {},
   "source": [
    "W analogiczny sposób generujemy wszystkie pozostałe zapytania: INSERT, DELETE, UPDATE itd. CREATE oraz SELECT są najtrudniejsze bo najmniej schematyczne."
   ]
  },
  {
   "cell_type": "markdown",
   "metadata": {},
   "source": [
    "## Zadanie\n",
    "\n",
    "- Zaprojektuj tabelę według poniższego opisu. Zacznij od pliku konfiguracyjnego, który zapiszesz jako json a następnie wczytasz i wykorzystasz do stworzenia zapytania\n",
    "- Dobierz odpowiednie typy danych. Ich dokładny opis możesz znaleźć np. tutaj -> https://www.postgresqltutorial.com/postgresql-data-types/\n",
    "- Wystarczy utworzenie tabeli, dodawanie do niej wierszy nie będzie na razie potrzebne\n",
    "- Przechowuj dane do logowania (credentials) w pliku np. json i wczytuj je tak aby nie znajdowały się bezpośrednio w kodzie\n",
    "- Aby upewnić się, że zapytanie jest poprawne uruchom jest w pgAdminie albo - najlepiej - z poziomu Pythona\n",
    "\n",
    "Czas: około 25 minut"
   ]
  },
  {
   "cell_type": "code",
   "execution_count": 35,
   "metadata": {},
   "outputs": [
    {
     "ename": "FileNotFoundError",
     "evalue": "[Errno 2] No such file or directory: 'configs/blogposts.json'",
     "output_type": "error",
     "traceback": [
      "\u001b[0;31m---------------------------------------------------------------------------\u001b[0m",
      "\u001b[0;31mFileNotFoundError\u001b[0m                         Traceback (most recent call last)",
      "\u001b[0;32m<ipython-input-35-90a2e85d3c88>\u001b[0m in \u001b[0;36m<module>\u001b[0;34m\u001b[0m\n\u001b[1;32m     10\u001b[0m \u001b[0;34m\u001b[0m\u001b[0m\n\u001b[1;32m     11\u001b[0m \u001b[0;34m\u001b[0m\u001b[0m\n\u001b[0;32m---> 12\u001b[0;31m \u001b[0mconfig\u001b[0m \u001b[0;34m=\u001b[0m \u001b[0mjson\u001b[0m\u001b[0;34m.\u001b[0m\u001b[0mload\u001b[0m\u001b[0;34m(\u001b[0m\u001b[0mopen\u001b[0m\u001b[0;34m(\u001b[0m\u001b[0;34m\"configs/blogposts.json\"\u001b[0m\u001b[0;34m,\u001b[0m \u001b[0;34m\"r\"\u001b[0m\u001b[0;34m)\u001b[0m\u001b[0;34m)\u001b[0m\u001b[0;34m\u001b[0m\u001b[0;34m\u001b[0m\u001b[0m\n\u001b[0m\u001b[1;32m     13\u001b[0m \u001b[0;34m\u001b[0m\u001b[0m\n\u001b[1;32m     14\u001b[0m \u001b[0mcreate_query\u001b[0m \u001b[0;34m=\u001b[0m \u001b[0;34m\"CREATE TABLE blogposts (\"\u001b[0m\u001b[0;34m\u001b[0m\u001b[0;34m\u001b[0m\u001b[0m\n",
      "\u001b[0;31mFileNotFoundError\u001b[0m: [Errno 2] No such file or directory: 'configs/blogposts.json'"
     ]
    }
   ],
   "source": [
    "import json\n",
    "\n",
    "\n",
    "def return_not_null(is_not_null):\n",
    "    return \"NOT NULL\" if is_not_null else \"\"\n",
    "\n",
    "    \n",
    "def return_unique(is_unique):\n",
    "    return \"UNIQUE\" if is_unique else \"\"\n",
    "    \n",
    "\n",
    "config = json.load(open(\"configs/blogposts.json\", \"r\"))\n",
    "\n",
    "create_query = \"CREATE TABLE blogposts (\"\n",
    "\n",
    "columns_definitions = []\n",
    "for col in config[\"columns\"]:\n",
    "    single_column_definition = col[\"name\"] + \" \" + col[\"type\"] + \" \" + return_not_null(col.get(\"not_null\", 0)) + \" \" + return_unique(col.get(\"unique\", 0))\n",
    "    columns_definitions.append(single_column_definition)\n",
    "    \n",
    "columns_definition = ','.join(columns_definitions)\n",
    "\n",
    "create_query += columns_definition + \");\"\n",
    "\n",
    "print(create_query)\n"
   ]
  },
  {
   "cell_type": "markdown",
   "metadata": {},
   "source": [
    "---"
   ]
  },
  {
   "cell_type": "markdown",
   "metadata": {},
   "source": [
    "Tabela ma za zadanie przechowywać informacje o wpisach na blogu. Do cech każdego wpisu powinny należeć:\n",
    "- Numer identyfikacyjny, który będzie wyliczał się automatycznie\n",
    "- Autor\n",
    "- Data i czas powstania posta (przechowywane w jednej kolumnie)\n",
    "- Lista tagów. Może ona pozostać pusta\n",
    "- Treść\n",
    "- Czy post był edytowany, czy nie\n",
    "- Liczba komentarzy"
   ]
  }
 ],
 "metadata": {
  "kernelspec": {
   "display_name": "Python 3",
   "language": "python",
   "name": "python3"
  },
  "language_info": {
   "codemirror_mode": {
    "name": "ipython",
    "version": 3
   },
   "file_extension": ".py",
   "mimetype": "text/x-python",
   "name": "python",
   "nbconvert_exporter": "python",
   "pygments_lexer": "ipython3",
   "version": "3.8.8"
  },
  "toc": {
   "base_numbering": 1,
   "nav_menu": {},
   "number_sections": true,
   "sideBar": true,
   "skip_h1_title": true,
   "title_cell": "Table of Contents",
   "title_sidebar": "Contents",
   "toc_cell": false,
   "toc_position": {},
   "toc_section_display": true,
   "toc_window_display": false
  },
  "varInspector": {
   "cols": {
    "lenName": 16,
    "lenType": 16,
    "lenVar": 40
   },
   "kernels_config": {
    "python": {
     "delete_cmd_postfix": "",
     "delete_cmd_prefix": "del ",
     "library": "var_list.py",
     "varRefreshCmd": "print(var_dic_list())"
    },
    "r": {
     "delete_cmd_postfix": ") ",
     "delete_cmd_prefix": "rm(",
     "library": "var_list.r",
     "varRefreshCmd": "cat(var_dic_list()) "
    }
   },
   "types_to_exclude": [
    "module",
    "function",
    "builtin_function_or_method",
    "instance",
    "_Feature"
   ],
   "window_display": false
  }
 },
 "nbformat": 4,
 "nbformat_minor": 4
}
