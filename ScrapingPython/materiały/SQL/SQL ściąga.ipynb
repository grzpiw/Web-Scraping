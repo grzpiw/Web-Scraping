{
 "cells": [
  {
   "cell_type": "markdown",
   "metadata": {},
   "source": [
    "## 1. CREATE "
   ]
  },
  {
   "cell_type": "markdown",
   "metadata": {},
   "source": [
    "``` SQL\n",
    "CREATE TABLE cars (\n",
    "    id          SMALLINT,           \n",
    "    brand       VARCHAR(20),        \n",
    "    price       NUMERIC,            \n",
    "    fuel_type   TEXT,               \n",
    "    mileage     NUMERIC,\n",
    "    is_new      BOOLEAN,            \n",
    "    prod_date   DATE                \n",
    ");\n",
    "```"
   ]
  },
  {
   "cell_type": "markdown",
   "metadata": {},
   "source": [
    "## 2. INSERT"
   ]
  },
  {
   "cell_type": "markdown",
   "metadata": {},
   "source": [
    "``` SQL\n",
    "INSERT INTO cars (\n",
    "id, brand, price, fuel_type, mileage, is_new, prod_date\n",
    ")\n",
    "VALUES (\n",
    "1, 'Audi', 80000, 'Benzyna', 200000, True, '2015-09-12'\n",
    ");\n",
    "\n",
    "```"
   ]
  },
  {
   "cell_type": "markdown",
   "metadata": {},
   "source": [
    "## 3. SELECT"
   ]
  },
  {
   "cell_type": "markdown",
   "metadata": {},
   "source": [
    "``` SQL\n",
    "SELECT * FROM cars\n",
    "WHERE price > 50000\n",
    "ORDER BY mileage; \n",
    "```"
   ]
  },
  {
   "cell_type": "markdown",
   "metadata": {},
   "source": [
    "## 4. UPDATE"
   ]
  },
  {
   "cell_type": "markdown",
   "metadata": {},
   "source": [
    "``` SQL\n",
    "UPDATE cars SET (mileage, is_new) = (1000, 'False') WHERE id = 4;\n",
    "```"
   ]
  },
  {
   "cell_type": "markdown",
   "metadata": {},
   "source": [
    "## 5. DELETE"
   ]
  },
  {
   "cell_type": "markdown",
   "metadata": {},
   "source": [
    "``` SQL\n",
    "DELETE FROM cars WHERE is_new = False\n",
    "```"
   ]
  },
  {
   "cell_type": "markdown",
   "metadata": {},
   "source": [
    "## 6. DROP"
   ]
  },
  {
   "cell_type": "markdown",
   "metadata": {},
   "source": [
    "``` SQL\n",
    "DROP TABLE cars\n",
    "```"
   ]
  }
 ],
 "metadata": {
  "kernelspec": {
   "display_name": "Python 3",
   "language": "python",
   "name": "python3"
  },
  "language_info": {
   "codemirror_mode": {
    "name": "ipython",
    "version": 3
   },
   "file_extension": ".py",
   "mimetype": "text/x-python",
   "name": "python",
   "nbconvert_exporter": "python",
   "pygments_lexer": "ipython3",
   "version": "3.8.5"
  }
 },
 "nbformat": 4,
 "nbformat_minor": 4
}
