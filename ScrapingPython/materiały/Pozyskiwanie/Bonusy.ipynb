{
 "cells": [
  {
   "cell_type": "markdown",
   "metadata": {},
   "source": [
    "# Bonusy\n",
    "\n",
    "## Pobieranie skompresowanych plików"
   ]
  },
  {
   "cell_type": "markdown",
   "metadata": {},
   "source": [
    "Instytut Podstaw Informatyki Polskie Akademii Nauk (IPIPAN) prowadzi badania nad językiem polskim w kontekście uczenia maszynowego (NLP - natural language processing). Udostępnia on pretrenowane przez siebie modele tzw. word embeddingów (model Word2Vec). Modele te znajdują się na stronie http://dsmodels.nlp.ipipan.waw.pl/ (Wybrane modele w postaci binarnej na dole strony).\n",
    "\n",
    "Modele te są plikami w postaci skompresowanej .zip. Gdybyśmy chcieli pobrać te - albo inne - pliki na potrzeby np. naszego programu w Pythonie moglibyśmy oczywiście zrobić to ręcznie. Da się to jednak zrobić również z poziomu Pythona co pozwala zautomatyzować pracę w sytuacji gdyby np. plików było zbyt dużo by opłacało się robić to ręcznie."
   ]
  },
  {
   "cell_type": "code",
   "execution_count": null,
   "metadata": {},
   "outputs": [],
   "source": [
    "import zipfile\n",
    "import requests\n",
    "from io import BytesIO"
   ]
  },
  {
   "cell_type": "code",
   "execution_count": null,
   "metadata": {},
   "outputs": [],
   "source": [
    "def get_and_extract_model(model_link):\n",
    "    model_response = requests.get(model_link, stream=True)\n",
    "    zipfile.ZipFile(BytesIO(model_response.content)).extractall(\"extracted_model_{}\".format(model_name))"
   ]
  },
  {
   "cell_type": "code",
   "execution_count": null,
   "metadata": {},
   "outputs": [],
   "source": [
    "model_name = \"nkjp+wiki-lemmas-all-300-cbow-ns-50\"\n",
    "model_link = \"http://dsmodels.nlp.ipipan.waw.pl/binmodels/{}.zip\".format(model_name)\n",
    "\n",
    "get_and_extract_model(model_link)"
   ]
  },
  {
   "cell_type": "markdown",
   "metadata": {},
   "source": [
    "## Instrukcja `wget`"
   ]
  },
  {
   "cell_type": "code",
   "execution_count": null,
   "metadata": {},
   "outputs": [],
   "source": [
    "!wget http://dsmodels.nlp.ipipan.waw.pl/binmodels/nkjp+wiki-forms-all-300-skipg-hs-50.zip"
   ]
  },
  {
   "cell_type": "markdown",
   "metadata": {},
   "source": [
    "## Wypełnianie formularzy\n",
    "Wróćmy do strony https://quotes.toscrape.com/ . W prawym górnym rogu jest tam link do panelu logowania. Czasami podczas scrapingu potrzebne będzie zalogowanie się w tego typu panelu. Może również zdarzyć się potrzeba wypełnienia formularza żeby przefiltrować wyniki wyszukiwania, np. szukajac ofert na portalach aukcyjnych. \n",
    "\n",
    "W tym celu poznamy nową funkcję z biblioteki requests, która odpowiada żądaniu `POST` z protokołu HTTP i pozwala m.in. na wypełnianie formularzy."
   ]
  },
  {
   "cell_type": "code",
   "execution_count": null,
   "metadata": {},
   "outputs": [],
   "source": [
    "import requests\n",
    "from bs4 import BeautifulSoup"
   ]
  },
  {
   "cell_type": "markdown",
   "metadata": {},
   "source": [
    "Należy zajrzeć do devtoolsów i znaleźć odpowiedni request w zakładce Network"
   ]
  },
  {
   "cell_type": "code",
   "execution_count": null,
   "metadata": {},
   "outputs": [],
   "source": [
    "data = {'username': 'my_login', 'password': 'my_password'}\n",
    "url = 'https://quotes.toscrape.com/login'\n",
    "resp = requests.post(url, data=data)\n",
    "soup = BeautifulSoup(resp.text, 'html.parser')"
   ]
  },
  {
   "cell_type": "code",
   "execution_count": null,
   "metadata": {
    "scrolled": false
   },
   "outputs": [],
   "source": [
    "soup"
   ]
  }
 ],
 "metadata": {
  "kernelspec": {
   "display_name": "Python 3",
   "language": "python",
   "name": "python3"
  },
  "language_info": {
   "codemirror_mode": {
    "name": "ipython",
    "version": 3
   },
   "file_extension": ".py",
   "mimetype": "text/x-python",
   "name": "python",
   "nbconvert_exporter": "python",
   "pygments_lexer": "ipython3",
   "version": "3.8.8"
  },
  "toc": {
   "base_numbering": 1,
   "nav_menu": {},
   "number_sections": true,
   "sideBar": true,
   "skip_h1_title": true,
   "title_cell": "Table of Contents",
   "title_sidebar": "Contents",
   "toc_cell": false,
   "toc_position": {},
   "toc_section_display": true,
   "toc_window_display": false
  },
  "varInspector": {
   "cols": {
    "lenName": 16,
    "lenType": 16,
    "lenVar": 40
   },
   "kernels_config": {
    "python": {
     "delete_cmd_postfix": "",
     "delete_cmd_prefix": "del ",
     "library": "var_list.py",
     "varRefreshCmd": "print(var_dic_list())"
    },
    "r": {
     "delete_cmd_postfix": ") ",
     "delete_cmd_prefix": "rm(",
     "library": "var_list.r",
     "varRefreshCmd": "cat(var_dic_list()) "
    }
   },
   "types_to_exclude": [
    "module",
    "function",
    "builtin_function_or_method",
    "instance",
    "_Feature"
   ],
   "window_display": false
  }
 },
 "nbformat": 4,
 "nbformat_minor": 4
}
