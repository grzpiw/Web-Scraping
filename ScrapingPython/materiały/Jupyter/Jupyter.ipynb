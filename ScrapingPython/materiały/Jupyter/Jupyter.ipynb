{
 "cells": [
  {
   "cell_type": "markdown",
   "metadata": {},
   "source": [
    "## Jupyter Notebook - narzędzie do pisania kodu oraz tekstu"
   ]
  },
  {
   "cell_type": "code",
   "execution_count": null,
   "metadata": {
    "scrolled": true
   },
   "outputs": [],
   "source": [
    "def test_function(x):\n",
    "    print(x)\n",
    "    print(\"This function is to show how to use code in Jupyter Notebook\")\n",
    "    \n",
    "test_function(\"hello\")"
   ]
  },
  {
   "cell_type": "markdown",
   "metadata": {},
   "source": [
    "Przykładowy *tekst* w formacie `Markdown`.\n",
    "- Więcej jego możliwości...\n",
    "- ...poznamy później\n",
    "---\n",
    "Struktura zawartości Jupyter Notebooka oparta jest o komórki - każda z nich funkcjonuje niezależnie i możemy wpisać do niej kod lub tekst"
   ]
  },
  {
   "cell_type": "markdown",
   "metadata": {},
   "source": [
    "## Poruszanie się po notebooku i podstawowe skróty klawiszowe\n",
    "Jupyter Notebook działa w dwóch trybach:\n",
    "- tryb edycji (zielony) - możemy edytować zawartość komórki\n",
    "- tryb poleceń (niebieski) - możemy korzystać z jupyterowych komend"
   ]
  },
  {
   "cell_type": "markdown",
   "metadata": {},
   "source": [
    "### Przełączanie się miedzy trybami\n",
    "Aby przejść z trybu poleceń do trybu edycji, czyli \"wejść do komórki\" używamy klawisza `Enter`.\n",
    "\n",
    "Aby przejść z trybu edycji do trybu poleceń, czyli \"wyjść z komórki\" używamy klawisza `Esc`"
   ]
  },
  {
   "cell_type": "markdown",
   "metadata": {},
   "source": [
    "### Przechodzenie miedzy komórkami\n",
    "Aby poruszać się po notebooku w kierunku góra-dół używamy strzałek będąc w trybie poleceń (niebieskim)"
   ]
  },
  {
   "cell_type": "markdown",
   "metadata": {},
   "source": [
    "### Uruchamianie komórek\n",
    "Aby uruchomić komórkę z kodem lub tekstem należy będąc w niej nacisnąć `Shift + Enter` lub `Control + Enter`. Polecenie działa zarówno w trybie edycji (zielonym) jak i trybie poleceń (niebieskim).\n",
    "\n",
    "Spróbuj uruchomić poniższe komórki obiema komendami i zwróć uwagę na różnicę."
   ]
  },
  {
   "cell_type": "code",
   "execution_count": null,
   "metadata": {},
   "outputs": [],
   "source": [
    "print(2+2)"
   ]
  },
  {
   "cell_type": "code",
   "execution_count": null,
   "metadata": {},
   "outputs": [],
   "source": [
    "if 2 > 1:\n",
    "    print(\"hello\")"
   ]
  },
  {
   "cell_type": "markdown",
   "metadata": {},
   "source": [
    "Komórkę sformatowaną jako `Markdown` **również** można *uruchomić*"
   ]
  },
  {
   "cell_type": "markdown",
   "metadata": {},
   "source": [
    "### Tworzenie oraz usuwanie komórek\n",
    "Aby dodać nową komórkę wciśnij w trybie poleceń `a` (*above*) lub `b` (*below*)\n",
    "\n",
    "Aby usunąć komórkę wciśnij `x`. Aby cofnąć usunięcie należy wcisnąć `z`."
   ]
  },
  {
   "cell_type": "markdown",
   "metadata": {},
   "source": [
    "## Tekst (markdown)"
   ]
  },
  {
   "cell_type": "markdown",
   "metadata": {},
   "source": [
    "- Każda komórka może być w trybie kodu lub markdown\n",
    "- Istnieje więcej trybów, ale nie będziemy się nimi zajmować\n",
    "- Aby komórka była traktowana jako kod należy w trybie edycji wcisnąć klawisz `y`\n",
    "- Aby komórka była traktowana jako markdown należy w trybie edycji wcisnąć klawisz `m`"
   ]
  },
  {
   "cell_type": "markdown",
   "metadata": {},
   "source": [
    "### Możliwości trybu markdown"
   ]
  },
  {
   "cell_type": "markdown",
   "metadata": {},
   "source": [
    "Markdown daje nam liczne możliwości pod względem formatowania kodu. Są to na przykład nagłówki, które tworzymy za pomocą znaku `#` na początku linijki. Liczba hashy określa poziom nagłówka, a co za tym idzie - wielkość liter.\n",
    "- --\n",
    "*Możemy pisać kursywą jeśli otoczymy tekst gwiazdkami*\n",
    "- --\n",
    "**Możemy wyboldować tekst podwójnymi gwiazdkami**\n",
    "- --\n",
    "`Możemy pisać również w taki sposób`\n",
    "- --\n",
    "- Możemy\n",
    "- tworzyć\n",
    "- listę\n",
    "- punktów"
   ]
  },
  {
   "cell_type": "markdown",
   "metadata": {},
   "source": [
    "## Kod"
   ]
  },
  {
   "cell_type": "code",
   "execution_count": null,
   "metadata": {},
   "outputs": [],
   "source": [
    "x = 1"
   ]
  },
  {
   "cell_type": "code",
   "execution_count": null,
   "metadata": {},
   "outputs": [],
   "source": [
    "y = 3"
   ]
  },
  {
   "cell_type": "code",
   "execution_count": null,
   "metadata": {},
   "outputs": [],
   "source": [
    "print(x)\n",
    "print(y)\n",
    "x + y"
   ]
  },
  {
   "cell_type": "code",
   "execution_count": null,
   "metadata": {},
   "outputs": [],
   "source": [
    "a = 0"
   ]
  },
  {
   "cell_type": "markdown",
   "metadata": {},
   "source": [
    "###### Uwagi:\n",
    "- aby kod się wykonał nalezy uruchomić komórkę\n",
    "- po lewej stronie każdej komórki z kodem znajduje się licznik wykonanych komórek\n",
    "- puste nawiasy kwadratowe oznaczają że komórka nie została uruchomiona. Gwiazdka oznacza że komórka jest w trakcie uruchamiania\n",
    "- należy uważać na kolejność pisania kodu. JN może działać nawet jeśli nie piszemy kodu z góry na dół, ale otwierając notebook na nowo mogą pojawić się błędy"
   ]
  },
  {
   "cell_type": "code",
   "execution_count": null,
   "metadata": {},
   "outputs": [],
   "source": [
    "b = 1\n",
    "b"
   ]
  },
  {
   "cell_type": "code",
   "execution_count": null,
   "metadata": {},
   "outputs": [],
   "source": [
    "b"
   ]
  },
  {
   "cell_type": "code",
   "execution_count": null,
   "metadata": {},
   "outputs": [],
   "source": [
    "b\n",
    "a"
   ]
  },
  {
   "cell_type": "code",
   "execution_count": null,
   "metadata": {},
   "outputs": [],
   "source": [
    "print(b)\n",
    "a"
   ]
  },
  {
   "cell_type": "markdown",
   "metadata": {},
   "source": [
    "## Komendy specjalne i dodatkowe informacje"
   ]
  },
  {
   "cell_type": "markdown",
   "metadata": {},
   "source": [
    "### Instrukcje konsolowe"
   ]
  },
  {
   "cell_type": "code",
   "execution_count": null,
   "metadata": {},
   "outputs": [],
   "source": [
    "!ls"
   ]
  },
  {
   "cell_type": "code",
   "execution_count": null,
   "metadata": {},
   "outputs": [],
   "source": [
    "!cat Jupyter.ipynb"
   ]
  },
  {
   "cell_type": "code",
   "execution_count": null,
   "metadata": {},
   "outputs": [],
   "source": [
    "!which python"
   ]
  },
  {
   "cell_type": "code",
   "execution_count": null,
   "metadata": {},
   "outputs": [],
   "source": [
    "pip install numpy"
   ]
  },
  {
   "cell_type": "markdown",
   "metadata": {},
   "source": [
    "### Instrukcje ze znakiem `%`"
   ]
  },
  {
   "cell_type": "markdown",
   "metadata": {},
   "source": [
    "JN dysponuje zestawem specjalnych poleceń, które rozpoczonymy znakiem `%`. Są to tak zwane *magic commands*. Więcej przykładów można znaleźć w tym opracowaniu -> https://miro.medium.com/max/2400/1*totJoCc3l7BdeY-mEQ6HHQ.png"
   ]
  },
  {
   "cell_type": "markdown",
   "metadata": {},
   "source": [
    "#### mierzenie czasu"
   ]
  },
  {
   "cell_type": "code",
   "execution_count": null,
   "metadata": {},
   "outputs": [],
   "source": [
    "%%time\n",
    "for i in list(range(1000000)):\n",
    "    i+i"
   ]
  },
  {
   "cell_type": "code",
   "execution_count": null,
   "metadata": {},
   "outputs": [],
   "source": [
    "%time sum(list(range(1000000)))"
   ]
  },
  {
   "cell_type": "markdown",
   "metadata": {},
   "source": [
    "#### ładowanie pliku z kodem oraz importy"
   ]
  },
  {
   "cell_type": "code",
   "execution_count": null,
   "metadata": {},
   "outputs": [],
   "source": [
    "%load helper.py"
   ]
  },
  {
   "cell_type": "code",
   "execution_count": null,
   "metadata": {},
   "outputs": [],
   "source": [
    "import helper"
   ]
  },
  {
   "cell_type": "code",
   "execution_count": null,
   "metadata": {},
   "outputs": [],
   "source": [
    "helper.multiply(5, 6)"
   ]
  },
  {
   "cell_type": "code",
   "execution_count": null,
   "metadata": {},
   "outputs": [],
   "source": [
    "helper.add(3, 4)"
   ]
  },
  {
   "cell_type": "markdown",
   "metadata": {},
   "source": [
    "### `nbextensions`\n",
    "\n",
    "https://jupyter-contrib-nbextensions.readthedocs.io/en/latest/install.html\n",
    "\n",
    "Rozszerzenia do JN, np. automatyczne numerowanie nagłówków i generowanie spisu treści\n",
    "\n",
    "pip\n",
    "```\n",
    "pip install jupyter_contrib_nbextensions\n",
    "jupyter contrib nbextension install --user\n",
    "jupyter nbextension enable varInspector/main\n",
    "```\n",
    "\n",
    "conda\n",
    "```\n",
    "conda install -c conda-forge jupyter_contrib_nbextensions\n",
    "jupyter nbextensions_configurator enable --user\n",
    "```"
   ]
  },
  {
   "cell_type": "markdown",
   "metadata": {},
   "source": [
    "### Kernel Jupyter Notebooka"
   ]
  },
  {
   "cell_type": "markdown",
   "metadata": {},
   "source": [
    "- JN uruchomiony jest w terminalu (konsoli). Zamknięcie przeglądarki nie wyłącza go\n",
    "- Aby zresetować stan notebooka (zmienne w pamięci itp.) nalezy zrestartować kernel\n",
    "- Jeżeli jakaś komórka wykonuje się zbyt długo i chcemy ją zatrzymać nalezy wykonać `Interrupt`"
   ]
  },
  {
   "cell_type": "markdown",
   "metadata": {},
   "source": [
    "### Autouzupełnianie kodu i sprawdzanie dokumentacji"
   ]
  },
  {
   "cell_type": "code",
   "execution_count": 1,
   "metadata": {},
   "outputs": [],
   "source": [
    "my_variable = 1"
   ]
  },
  {
   "cell_type": "code",
   "execution_count": 2,
   "metadata": {},
   "outputs": [
    {
     "data": {
      "text/plain": [
       "1"
      ]
     },
     "execution_count": 2,
     "metadata": {},
     "output_type": "execute_result"
    }
   ],
   "source": [
    "my_variable"
   ]
  },
  {
   "cell_type": "code",
   "execution_count": 3,
   "metadata": {},
   "outputs": [],
   "source": [
    "my_variable2 = 3"
   ]
  },
  {
   "cell_type": "code",
   "execution_count": null,
   "metadata": {},
   "outputs": [],
   "source": [
    "my_variable2"
   ]
  },
  {
   "cell_type": "code",
   "execution_count": null,
   "metadata": {},
   "outputs": [],
   "source": []
  },
  {
   "cell_type": "markdown",
   "metadata": {},
   "source": [
    "Zacznij pisać poniżej nazwę zmiennej `my_variable` i wciśnij `Tab`"
   ]
  },
  {
   "cell_type": "code",
   "execution_count": null,
   "metadata": {},
   "outputs": [],
   "source": [
    "# ..."
   ]
  },
  {
   "cell_type": "markdown",
   "metadata": {},
   "source": [
    "---"
   ]
  },
  {
   "cell_type": "code",
   "execution_count": null,
   "metadata": {},
   "outputs": [],
   "source": [
    "import numpy as np"
   ]
  },
  {
   "cell_type": "code",
   "execution_count": null,
   "metadata": {},
   "outputs": [],
   "source": [
    "np.array(    # wciśnij Shift + Tab"
   ]
  },
  {
   "cell_type": "markdown",
   "metadata": {},
   "source": [
    "## Podsumowanie najważniejszych skrótów klawiszowych"
   ]
  },
  {
   "cell_type": "markdown",
   "metadata": {},
   "source": [
    "`Shift + Enter`, `Control + Enter` - uruchom komórkę\n",
    "\n",
    "`Escape` - wyjdź do trybu poleceń\n",
    "\n",
    "`Enter` - wejdź do trybu edycji\n",
    "\n",
    "`Arrow Up`, `Arrow Down` - przełączaj się między komórkami\n",
    "\n",
    "`a`, `b` - utwórz komórkę powyżej lub poniżej\n",
    "\n",
    "`m`, `y` - przełącz w tryb markdown lub kod\n",
    "\n",
    "`x` - usuń komórkę\n",
    "\n",
    "`z` - cofnij usunięcie"
   ]
  }
 ],
 "metadata": {
  "kernelspec": {
   "display_name": "Python 3",
   "language": "python",
   "name": "python3"
  },
  "language_info": {
   "codemirror_mode": {
    "name": "ipython",
    "version": 3
   },
   "file_extension": ".py",
   "mimetype": "text/x-python",
   "name": "python",
   "nbconvert_exporter": "python",
   "pygments_lexer": "ipython3",
   "version": "3.8.8"
  },
  "toc": {
   "base_numbering": 1,
   "nav_menu": {},
   "number_sections": true,
   "sideBar": true,
   "skip_h1_title": false,
   "title_cell": "Table of Contents",
   "title_sidebar": "Contents",
   "toc_cell": false,
   "toc_position": {
    "height": "calc(100% - 180px)",
    "left": "10px",
    "top": "150px",
    "width": "253.267px"
   },
   "toc_section_display": true,
   "toc_window_display": true
  },
  "varInspector": {
   "cols": {
    "lenName": 16,
    "lenType": 16,
    "lenVar": 40
   },
   "kernels_config": {
    "python": {
     "delete_cmd_postfix": "",
     "delete_cmd_prefix": "del ",
     "library": "var_list.py",
     "varRefreshCmd": "print(var_dic_list())"
    },
    "r": {
     "delete_cmd_postfix": ") ",
     "delete_cmd_prefix": "rm(",
     "library": "var_list.r",
     "varRefreshCmd": "cat(var_dic_list()) "
    }
   },
   "types_to_exclude": [
    "module",
    "function",
    "builtin_function_or_method",
    "instance",
    "_Feature"
   ],
   "window_display": false
  }
 },
 "nbformat": 4,
 "nbformat_minor": 2
}
